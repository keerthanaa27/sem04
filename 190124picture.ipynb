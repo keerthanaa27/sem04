{
 "cells": [
  {
   "cell_type": "code",
   "execution_count": 13,
   "id": "40c97d3d",
   "metadata": {},
   "outputs": [],
   "source": [
    "import numpy"
   ]
  },
  {
   "cell_type": "code",
   "execution_count": 14,
   "id": "573409cb",
   "metadata": {},
   "outputs": [],
   "source": [
    "import cv2"
   ]
  },
  {
   "cell_type": "code",
   "execution_count": 15,
   "id": "a5a58f69",
   "metadata": {},
   "outputs": [],
   "source": [
    "import numpy as np"
   ]
  },
  {
   "cell_type": "code",
   "execution_count": 19,
   "id": "77c675d6",
   "metadata": {},
   "outputs": [],
   "source": [
    "t=cv2.imread(\"C:/Users/SN115/Pictures/picture.jpg\",0)"
   ]
  },
  {
   "cell_type": "code",
   "execution_count": 20,
   "id": "a2648167",
   "metadata": {},
   "outputs": [
    {
     "data": {
      "text/plain": [
       "array([[12, 12, 12, ..., 39, 37, 36],\n",
       "       [12, 12, 12, ..., 32, 31, 30],\n",
       "       [12, 12, 12, ..., 19, 18, 17],\n",
       "       ...,\n",
       "       [38, 37, 40, ..., 20, 22, 25],\n",
       "       [33, 41, 51, ..., 21, 21, 21],\n",
       "       [40, 73, 93, ..., 21, 21, 21]], dtype=uint8)"
      ]
     },
     "execution_count": 20,
     "metadata": {},
     "output_type": "execute_result"
    }
   ],
   "source": [
    "t"
   ]
  },
  {
   "cell_type": "code",
   "execution_count": 21,
   "id": "a58568c7",
   "metadata": {},
   "outputs": [],
   "source": [
    "cv2.imshow(\"show\",t)\n",
    "cv2.waitKey(5000)\n",
    "cv2.destroyAllWindows()"
   ]
  },
  {
   "cell_type": "code",
   "execution_count": null,
   "id": "503cadd6",
   "metadata": {},
   "outputs": [],
   "source": []
  },
  {
   "cell_type": "code",
   "execution_count": null,
   "id": "5f8be242",
   "metadata": {},
   "outputs": [],
   "source": []
  }
 ],
 "metadata": {
  "kernelspec": {
   "display_name": "Python 3 (ipykernel)",
   "language": "python",
   "name": "python3"
  },
  "language_info": {
   "codemirror_mode": {
    "name": "ipython",
    "version": 3
   },
   "file_extension": ".py",
   "mimetype": "text/x-python",
   "name": "python",
   "nbconvert_exporter": "python",
   "pygments_lexer": "ipython3",
   "version": "3.11.5"
  }
 },
 "nbformat": 4,
 "nbformat_minor": 5
}
