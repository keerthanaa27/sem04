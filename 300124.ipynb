{
 "cells": [
  {
   "cell_type": "code",
   "execution_count": 1,
   "id": "304702a9",
   "metadata": {},
   "outputs": [],
   "source": [
    "import cv2\n",
    "import numpy as np"
   ]
  },
  {
   "cell_type": "code",
   "execution_count": 2,
   "id": "6df4a0f0",
   "metadata": {},
   "outputs": [],
   "source": [
    "im1=cv2.imread(\"C:/Users/SN115/Pictures/panda.jpg\")"
   ]
  },
  {
   "cell_type": "code",
   "execution_count": 3,
   "id": "0a85872f",
   "metadata": {},
   "outputs": [
    {
     "name": "stdout",
     "output_type": "stream",
     "text": [
      "(478, 850, 3)\n"
     ]
    }
   ],
   "source": [
    "print(im1.shape)"
   ]
  },
  {
   "cell_type": "code",
   "execution_count": 4,
   "id": "16055947",
   "metadata": {},
   "outputs": [
    {
     "name": "stdout",
     "output_type": "stream",
     "text": [
      "1218900\n"
     ]
    }
   ],
   "source": [
    "print(im1.size)"
   ]
  },
  {
   "cell_type": "code",
   "execution_count": 5,
   "id": "8299b9f3",
   "metadata": {},
   "outputs": [],
   "source": [
    "im1_resized=cv2.resize(im1,(250,250))"
   ]
  },
  {
   "cell_type": "code",
   "execution_count": 6,
   "id": "c8efa7d3",
   "metadata": {},
   "outputs": [
    {
     "name": "stdout",
     "output_type": "stream",
     "text": [
      "(250, 250, 3)\n"
     ]
    }
   ],
   "source": [
    "print(im1_resized.shape)"
   ]
  },
  {
   "cell_type": "code",
   "execution_count": null,
   "id": "f0b4bc19",
   "metadata": {},
   "outputs": [],
   "source": [
    "cv2.imshow(\"img1\",im1)\n",
    "cv2.imshow(\"img2\",im1_resized)\n",
    "cv2.waitKey(0)\n",
    "cv2.destroyALLwindow()"
   ]
  },
  {
   "cell_type": "code",
   "execution_count": null,
   "id": "d252640f",
   "metadata": {},
   "outputs": [],
   "source": [
    "print(im1.size)"
   ]
  },
  {
   "cell_type": "markdown",
   "id": "e952cee4",
   "metadata": {},
   "source": [
    "# colours space changing"
   ]
  },
  {
   "cell_type": "code",
   "execution_count": null,
   "id": "268c5fe1",
   "metadata": {},
   "outputs": [],
   "source": [
    "colors_avl=[i for i in dir(cv2) if i.startswith(\"COLOR_BGR\")]"
   ]
  },
  {
   "cell_type": "code",
   "execution_count": null,
   "id": "b8684984",
   "metadata": {},
   "outputs": [],
   "source": [
    "print(colors_avl)"
   ]
  },
  {
   "cell_type": "code",
   "execution_count": null,
   "id": "0cd29e09",
   "metadata": {},
   "outputs": [],
   "source": [
    "im3=cv2.cvtColor(im1,cv2.COLOR_BGR2HSV)"
   ]
  },
  {
   "cell_type": "code",
   "execution_count": null,
   "id": "dec502c8",
   "metadata": {},
   "outputs": [],
   "source": [
    "cv2.imshow(\"img1\",im1)\n",
    "cv2.imshow(\"img2\",im3)\n",
    "cv2.waitKey(0)\n",
    "cv2.destroyALLwindow()"
   ]
  },
  {
   "cell_type": "markdown",
   "id": "fd3ee4b7",
   "metadata": {},
   "source": [
    "# image blending"
   ]
  },
  {
   "cell_type": "code",
   "execution_count": null,
   "id": "c9a30eb1",
   "metadata": {},
   "outputs": [],
   "source": [
    "import cv2\n",
    "import numpy"
   ]
  },
  {
   "cell_type": "code",
   "execution_count": null,
   "id": "da0a97b3",
   "metadata": {},
   "outputs": [],
   "source": [
    "im1=cv2.imread(\"C:/Users/SN115/Pictures/coco1.jpg\")\n",
    "im2=cv2.imread(\"C:/Users/SN115/Pictures/coco2.jpg\")"
   ]
  },
  {
   "cell_type": "code",
   "execution_count": null,
   "id": "abae7dc5",
   "metadata": {},
   "outputs": [],
   "source": [
    "cv2.imshow(\"img1\",im1)\n",
    "cv2.imshow(\"img2\",im2)\n",
    "cv2.waitKey(0)\n",
    "cv2.destroyAllwindow()\n"
   ]
  },
  {
   "cell_type": "code",
   "execution_count": null,
   "id": "d8754173",
   "metadata": {},
   "outputs": [],
   "source": [
    "im_blend=cv2.addweighted(im1,1,im2,0.3,0)"
   ]
  },
  {
   "cell_type": "code",
   "execution_count": null,
   "id": "da1ae4c6",
   "metadata": {},
   "outputs": [],
   "source": [
    "cv2.imshow(\"im1\",im1)\n",
    "cv2.waitKey(0)\n",
    "cv2.imshow(\"im2\",im2)\n",
    "cv2.waitKey(0)\n",
    "cv2.imshow(\"Blended\", im_blend)\n",
    "cv2.waitkey\n",
    "cv2.destroyAllwindow()"
   ]
  },
  {
   "cell_type": "code",
   "execution_count": null,
   "id": "9e15f204",
   "metadata": {},
   "outputs": [],
   "source": []
  }
 ],
 "metadata": {
  "kernelspec": {
   "display_name": "Python 3 (ipykernel)",
   "language": "python",
   "name": "python3"
  },
  "language_info": {
   "codemirror_mode": {
    "name": "ipython",
    "version": 3
   },
   "file_extension": ".py",
   "mimetype": "text/x-python",
   "name": "python",
   "nbconvert_exporter": "python",
   "pygments_lexer": "ipython3",
   "version": "3.11.5"
  }
 },
 "nbformat": 4,
 "nbformat_minor": 5
}
