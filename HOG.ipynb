{
 "cells": [
  {
   "cell_type": "code",
   "execution_count": 1,
   "id": "d9a4f8f5",
   "metadata": {},
   "outputs": [],
   "source": [
    "#pip install imutils"
   ]
  },
  {
   "cell_type": "code",
   "execution_count": 2,
   "id": "76850780",
   "metadata": {},
   "outputs": [],
   "source": [
    "import cv2\n",
    "import imutils "
   ]
  },
  {
   "cell_type": "markdown",
   "id": "f4591fa4",
   "metadata": {},
   "source": [
    "# initializing the hog person detector"
   ]
  },
  {
   "cell_type": "code",
   "execution_count": 3,
   "id": "74fb71de",
   "metadata": {},
   "outputs": [
    {
     "data": {
      "text/plain": [
       "< cv2.HOGDescriptor 000001C71A2BB1F0>"
      ]
     },
     "execution_count": 3,
     "metadata": {},
     "output_type": "execute_result"
    }
   ],
   "source": [
    "hog = cv2.HOGDescriptor()\n",
    "hog.setSVMDetector(cv2.HOGDescriptor_getDefaultPeopleDetector())\n",
    "hog"
   ]
  },
  {
   "cell_type": "code",
   "execution_count": 4,
   "id": "ebb5b989",
   "metadata": {},
   "outputs": [
    {
     "data": {
      "text/plain": [
       "(1365, 2048, 3)"
      ]
     },
     "execution_count": 4,
     "metadata": {},
     "output_type": "execute_result"
    }
   ],
   "source": [
    "image=cv2.imread(\"C:/Users/SN115/Pictures/yk/people.jpg\")\n",
    "image.shape"
   ]
  },
  {
   "cell_type": "code",
   "execution_count": 5,
   "id": "fb3573fc",
   "metadata": {},
   "outputs": [
    {
     "data": {
      "text/plain": [
       "(266, 400, 3)"
      ]
     },
     "execution_count": 5,
     "metadata": {},
     "output_type": "execute_result"
    }
   ],
   "source": [
    "image = imutils.resize(image ,width=min(400 ,image.shape[1]))\n",
    "image.shape"
   ]
  },
  {
   "cell_type": "code",
   "execution_count": 6,
   "id": "d5d7a3a6",
   "metadata": {},
   "outputs": [],
   "source": [
    "(regions,img)=hog.detectMultiScale(image,\n",
    "                                     winStride=(1,1),\n",
    "                                     padding=(40,40),\n",
    "                                     scale=1.05)\n"
   ]
  },
  {
   "cell_type": "code",
   "execution_count": 7,
   "id": "b762a44f",
   "metadata": {},
   "outputs": [
    {
     "data": {
      "text/plain": [
       "array([[ 53, 152,  77, 114],\n",
       "       [186, 165,  68, 101],\n",
       "       [  0, 110,  45, 156]])"
      ]
     },
     "execution_count": 7,
     "metadata": {},
     "output_type": "execute_result"
    }
   ],
   "source": [
    "regions"
   ]
  },
  {
   "cell_type": "code",
   "execution_count": 8,
   "id": "763c062f",
   "metadata": {},
   "outputs": [],
   "source": [
    "for(x,y,w,h) in regions:\n",
    "    cv2.rectangle(image ,(x, y) ,\n",
    "                 (x+w,y+h), \n",
    "                 (0,255,0) ,3)"
   ]
  },
  {
   "cell_type": "code",
   "execution_count": 10,
   "id": "ab92fc9b",
   "metadata": {},
   "outputs": [
    {
     "ename": "AttributeError",
     "evalue": "module 'cv2' has no attribute 'destroyAllwindow'",
     "output_type": "error",
     "traceback": [
      "\u001b[1;31m---------------------------------------------------------------------------\u001b[0m",
      "\u001b[1;31mAttributeError\u001b[0m                            Traceback (most recent call last)",
      "Cell \u001b[1;32mIn[10], line 3\u001b[0m\n\u001b[0;32m      1\u001b[0m cv2\u001b[38;5;241m.\u001b[39m imshow(\u001b[38;5;124m\"\u001b[39m\u001b[38;5;124mImage\u001b[39m\u001b[38;5;124m\"\u001b[39m ,image)\n\u001b[0;32m      2\u001b[0m cv2\u001b[38;5;241m.\u001b[39mwaitKey(\u001b[38;5;241m0\u001b[39m)\n\u001b[1;32m----> 3\u001b[0m cv2\u001b[38;5;241m.\u001b[39mdestroyAllwindow()\n",
      "\u001b[1;31mAttributeError\u001b[0m: module 'cv2' has no attribute 'destroyAllwindow'"
     ]
    }
   ],
   "source": [
    "cv2. imshow(\"Image\" ,image)\n",
    "cv2.waitKey(0)\n",
    "cv2.destroyAllwindow()"
   ]
  },
  {
   "cell_type": "code",
   "execution_count": null,
   "id": "8714389b",
   "metadata": {},
   "outputs": [],
   "source": []
  }
 ],
 "metadata": {
  "kernelspec": {
   "display_name": "Python 3 (ipykernel)",
   "language": "python",
   "name": "python3"
  },
  "language_info": {
   "codemirror_mode": {
    "name": "ipython",
    "version": 3
   },
   "file_extension": ".py",
   "mimetype": "text/x-python",
   "name": "python",
   "nbconvert_exporter": "python",
   "pygments_lexer": "ipython3",
   "version": "3.11.5"
  }
 },
 "nbformat": 4,
 "nbformat_minor": 5
}
