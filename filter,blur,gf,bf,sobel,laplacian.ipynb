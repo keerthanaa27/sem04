{
 "cells": [
  {
   "cell_type": "code",
   "execution_count": 1,
   "id": "e2e9dc9f",
   "metadata": {},
   "outputs": [],
   "source": [
    "import cv2 as cv\n",
    "import matplotlib.pyplot as plt \n",
    "import numpy as np"
   ]
  },
  {
   "cell_type": "code",
   "execution_count": null,
   "id": "943d65d1",
   "metadata": {},
   "outputs": [],
   "source": [
    "img = cv.imread('C:/Users/SN115/Pictures/yk/panda.jpg')\n",
    "kernal = np.ones ((3,3),np.float32)/9\n",
    "dst = cv.filter2D(img,-1,kernal)\n",
    "cv.imshow('image',img)\n",
    "cv.imshow('dst',dst)\n",
    "cv.waitKey(0)\n",
    "cv.destroyAllWindows()"
   ]
  },
  {
   "cell_type": "code",
   "execution_count": null,
   "id": "ea9480a9",
   "metadata": {},
   "outputs": [],
   "source": [
    "img = cv.imread('C:/Users/SN115/Pictures/yk/panda.jpg')\n",
    "#print(img)\n",
    "kernal = np.ones((5,5),np.float32)/25\n",
    "filter = cv.filter2D(img,-2,kernal)\n",
    "cv.imshow('image',img)\n",
    "cv.imshow('filter2d',filter)\n",
    "cv.waitKey(0)\n",
    "cv.destroyAllWindows()\n"
   ]
  },
  {
   "cell_type": "code",
   "execution_count": null,
   "id": "40824ba7",
   "metadata": {},
   "outputs": [],
   "source": [
    "img = cv.imread('C:/Users/SN115/Pictures/yk/panda.jpg')\n",
    "blur = cv.blur(img,(5,5))\n",
    "cv.imshow('image',img)\n",
    "cv.imshow('blur',blur)\n",
    "cv.waitKey(0)\n",
    "cv.destroyAllWindows()\n",
    "\n"
   ]
  },
  {
   "cell_type": "markdown",
   "id": "1bee5194",
   "metadata": {},
   "source": [
    "# gaussian blur"
   ]
  },
  {
   "cell_type": "code",
   "execution_count": null,
   "id": "d3ad1154",
   "metadata": {},
   "outputs": [],
   "source": [
    "img = cv.imread(\"C:/Users/SN115/Pictures/yk/download.jpg\")\n",
    "Gblur =cv.GaussianBlur(img,(5,5),0)\n",
    "cv.imshow('image',img)\n",
    "cv.imshow('Gaussianblur',Gblur)\n",
    "cv.waitKey(0)\n",
    "cv.destroyAllWindows()\n",
    "\n",
    "\n"
   ]
  },
  {
   "cell_type": "markdown",
   "id": "50e06162",
   "metadata": {},
   "source": [
    "#  bilateral filter noise blur"
   ]
  },
  {
   "cell_type": "code",
   "execution_count": null,
   "id": "871a336c",
   "metadata": {},
   "outputs": [],
   "source": [
    "img = cv.imread(\"C:/Users/SN115/Pictures/yk/photo.jpg\")\n",
    "print(img.shape)\n",
    "Bfilter =cv.bilateralFilter(img,9,50,50)\n",
    "cv.imshow('image',img)\n",
    "cv.imshow('bilateralFilter',Bfilter)\n",
    "cv.waitKey(0)\n",
    "cv.destroyAllWindows()\n"
   ]
  },
  {
   "cell_type": "markdown",
   "id": "ed033f42",
   "metadata": {},
   "source": [
    "# mediam filter"
   ]
  },
  {
   "cell_type": "code",
   "execution_count": null,
   "id": "b8ba8181",
   "metadata": {},
   "outputs": [],
   "source": [
    "img = cv.imread(\"C:/Users/SN115/Pictures/yk/salt.jpg\")\n",
    "medianFilter = cv.medianBlur(img,5)\n",
    "cv.imshow('image',img)\n",
    "cv.imshow('medianBlur',medianFilter)\n",
    "cv.waitKey(0)\n",
    "cv.destroyAllWindows()\n"
   ]
  },
  {
   "cell_type": "markdown",
   "id": "25f2dfd5",
   "metadata": {},
   "source": [
    "# laplacian filter"
   ]
  },
  {
   "cell_type": "code",
   "execution_count": null,
   "id": "b8385335",
   "metadata": {},
   "outputs": [],
   "source": [
    "img = cv.imread('C:/Users/SN115/Pictures/yk/panda.jpg',0)\n",
    "lap = cv.Laplacian(img,cv.CV_64F,ksize=3)\n",
    "cv.imshow('image',img)\n",
    "cv.imshow('laplacian',lap)\n",
    "cv.waitKey(0)\n",
    "cv.destroyAllWindows()\n",
    "\n"
   ]
  },
  {
   "cell_type": "code",
   "execution_count": null,
   "id": "88254a3c",
   "metadata": {},
   "outputs": [],
   "source": [
    "img = cv.imread('C:/Users/SN115/Pictures/yk/panda.jpg',0)\n",
    "lap = cv.Laplacian(img,cv.CV_64F,ksize=3)\n",
    "lap = np.uint8(np.absolute(lap))\n",
    "cv.imshow('image',img)\n",
    "cv.imshow('laplacian',lap)\n",
    "cv.waitKey(0)\n",
    "cv.destroyAllWindows()\n"
   ]
  },
  {
   "cell_type": "markdown",
   "id": "8c541998",
   "metadata": {},
   "source": [
    "# sobel filter"
   ]
  },
  {
   "cell_type": "code",
   "execution_count": 8,
   "id": "c3b5a396",
   "metadata": {},
   "outputs": [],
   "source": [
    "img = cv.imread(\"C:/Users/SN115/Pictures/yk/num.png\")\n",
    "sobelx = cv.Sobel(img,cv.CV_64F,1,0,ksize=3)\n",
    "cv.imshow('image',img)\n",
    "cv.imshow('sobelx',sobelx)\n",
    "cv.waitKey(0)\n",
    "cv.destroyAllWindows()\n"
   ]
  },
  {
   "cell_type": "code",
   "execution_count": 3,
   "id": "fe84d192",
   "metadata": {},
   "outputs": [],
   "source": [
    "img = cv.imread(\"C:/Users/SN115/Pictures/yk/num.png\")\n",
    "sobelx = cv.Sobel(img,cv.CV_64F,1,0,ksize=3)\n",
    "sobelx = np.uint8(np.absolute(sobelx))\n",
    "cv.imshow('image',img)\n",
    "cv.imshow('sobelx',sobelx)\n",
    "cv.waitKey(0)\n",
    "cv.destroyAllWindows()\n"
   ]
  },
  {
   "cell_type": "code",
   "execution_count": 11,
   "id": "33ad1ab3",
   "metadata": {},
   "outputs": [],
   "source": [
    "img = cv.imread(\"C:/Users/SN115/Pictures/yk/num.png\")\n",
    "sobely = cv.Sobel(img,cv.CV_64F,0,1,ksize=3)\n",
    "cv.imshow('image',img)\n",
    "cv.imshow('sobely',sobely)\n",
    "cv.waitKey(0)\n",
    "cv.destroyAllWindows()\n"
   ]
  },
  {
   "cell_type": "code",
   "execution_count": 12,
   "id": "b9bea37f",
   "metadata": {},
   "outputs": [],
   "source": [
    "img = cv.imread(\"C:/Users/SN115/Pictures/yk/num.png\")\n",
    "sobely = cv.Sobel(img,cv.CV_64F,0,1,ksize=3)\n",
    "sobely = np.uint8(np.absolute(sobely))\n",
    "cv.imshow('image',img)\n",
    "cv.imshow('sobely',sobely)\n",
    "cv.waitKey(0)\n",
    "cv.destroyAllWindows()\n"
   ]
  },
  {
   "cell_type": "code",
   "execution_count": null,
   "id": "2539ccfa",
   "metadata": {},
   "outputs": [],
   "source": []
  }
 ],
 "metadata": {
  "kernelspec": {
   "display_name": "Python 3 (ipykernel)",
   "language": "python",
   "name": "python3"
  },
  "language_info": {
   "codemirror_mode": {
    "name": "ipython",
    "version": 3
   },
   "file_extension": ".py",
   "mimetype": "text/x-python",
   "name": "python",
   "nbconvert_exporter": "python",
   "pygments_lexer": "ipython3",
   "version": "3.11.5"
  }
 },
 "nbformat": 4,
 "nbformat_minor": 5
}
