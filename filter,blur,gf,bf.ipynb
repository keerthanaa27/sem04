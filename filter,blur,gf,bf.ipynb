{
 "cells": [
  {
   "cell_type": "code",
   "execution_count": 2,
   "id": "e2e9dc9f",
   "metadata": {},
   "outputs": [],
   "source": [
    "import cv2 as cv\n",
    "import matplotlib.pyplot as plt \n",
    "import numpy as np"
   ]
  },
  {
   "cell_type": "code",
   "execution_count": null,
   "id": "943d65d1",
   "metadata": {},
   "outputs": [],
   "source": [
    "img = cv.imread('C:/Users/SN115/Pictures/yk/panda.jpg')\n",
    "kernal = np.ones ((3,3),np.float32)/9\n",
    "dst = cv.filter2D(img,-1,kernal)\n",
    "cv.imshow('image',img)\n",
    "cv.imshow('dst',dst)\n",
    "cv.waitKey(0)\n",
    "cv.destroyAllWindows()"
   ]
  },
  {
   "cell_type": "code",
   "execution_count": null,
   "id": "ea9480a9",
   "metadata": {},
   "outputs": [],
   "source": [
    "img = cv.imread('C:/Users/SN115/Pictures/yk/panda.jpg')\n",
    "#print(img)\n",
    "kernal = np.ones((5,5),np.float32)/25\n",
    "filter = cv.filter2D(img,-2,kernal)\n",
    "cv.imshow('image',img)\n",
    "cv.imshow('filter2d',filter)\n",
    "cv.waitKey(0)\n",
    "cv.destroyAllWindows()\n"
   ]
  },
  {
   "cell_type": "code",
   "execution_count": null,
   "id": "40824ba7",
   "metadata": {},
   "outputs": [],
   "source": [
    "img = cv.imread('C:/Users/SN115/Pictures/yk/panda.jpg')\n",
    "blur = cv.blur(img,(5,5))\n",
    "cv.imshow('image',img)\n",
    "cv.imshow('blur',blur)\n",
    "cv.waitKey(0)\n",
    "cv.destroyAllWindows()\n",
    "\n"
   ]
  },
  {
   "cell_type": "markdown",
   "id": "1bee5194",
   "metadata": {},
   "source": [
    "# gaussian blur"
   ]
  },
  {
   "cell_type": "code",
   "execution_count": 4,
   "id": "d3ad1154",
   "metadata": {},
   "outputs": [],
   "source": [
    "img = cv.imread(\"C:/Users/SN115/Pictures/yk/download.jpg\")\n",
    "Gblur =cv.GaussianBlur(img,(5,5),0)\n",
    "cv.imshow('image',img)\n",
    "cv.imshow('Gaussianblur',Gblur)\n",
    "cv.waitKey(0)\n",
    "cv.destroyAllWindows()\n",
    "\n",
    "\n"
   ]
  },
  {
   "cell_type": "markdown",
   "id": "50e06162",
   "metadata": {},
   "source": [
    "#  bilateral filter noise blur"
   ]
  },
  {
   "cell_type": "code",
   "execution_count": 8,
   "id": "871a336c",
   "metadata": {},
   "outputs": [
    {
     "name": "stdout",
     "output_type": "stream",
     "text": [
      "(720, 1280, 3)\n"
     ]
    }
   ],
   "source": [
    "img = cv.imread(\"C:/Users/SN115/Pictures/yk/photo.jpg\")\n",
    "print(img.shape)\n",
    "Bfilter =cv.bilateralFilter(img,9,50,50)\n",
    "cv.imshow('image',img)\n",
    "cv.imshow('bilateralFilter',Bfilter)\n",
    "cv.waitKey(0)\n",
    "cv.destroyAllWindows()\n"
   ]
  },
  {
   "cell_type": "markdown",
   "id": "ed033f42",
   "metadata": {},
   "source": [
    "# mediam filter"
   ]
  },
  {
   "cell_type": "code",
   "execution_count": null,
   "id": "b8ba8181",
   "metadata": {},
   "outputs": [],
   "source": [
    "img = cv.imread(\"C:/Users/SN115/Pictures/yk/salt.jpg\")\n",
    "medianFilter = cv.medianBlur(img,5)\n",
    "cv.imshow('image',img)\n",
    "cv.imshow('medianBlur',medianFilter)\n",
    "cv.waitKey(0)\n",
    "cv.destroyAllWindows()\n"
   ]
  },
  {
   "cell_type": "code",
   "execution_count": null,
   "id": "c4f77a15",
   "metadata": {},
   "outputs": [],
   "source": []
  }
 ],
 "metadata": {
  "kernelspec": {
   "display_name": "Python 3 (ipykernel)",
   "language": "python",
   "name": "python3"
  },
  "language_info": {
   "codemirror_mode": {
    "name": "ipython",
    "version": 3
   },
   "file_extension": ".py",
   "mimetype": "text/x-python",
   "name": "python",
   "nbconvert_exporter": "python",
   "pygments_lexer": "ipython3",
   "version": "3.11.5"
  }
 },
 "nbformat": 4,
 "nbformat_minor": 5
}
