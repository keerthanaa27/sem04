{
 "cells": [
  {
   "cell_type": "code",
   "execution_count": 2,
   "id": "6c2af557",
   "metadata": {},
   "outputs": [],
   "source": [
    "import cv2\n",
    "import numpy"
   ]
  },
  {
   "cell_type": "code",
   "execution_count": 3,
   "id": "3ae8d9d9",
   "metadata": {},
   "outputs": [],
   "source": [
    "im1=cv2.imread(\"C:/Users/SN115/Pictures/yk/coco1.jpg\")\n",
    "im2=cv2.imread(\"C:/Users/SN115/Pictures/yk/coco2.jpg\")"
   ]
  },
  {
   "cell_type": "code",
   "execution_count": 4,
   "id": "36a1b773",
   "metadata": {},
   "outputs": [
    {
     "data": {
      "text/plain": [
       "(350, 350, 3)"
      ]
     },
     "execution_count": 4,
     "metadata": {},
     "output_type": "execute_result"
    }
   ],
   "source": [
    "im1.shape"
   ]
  },
  {
   "cell_type": "code",
   "execution_count": 9,
   "id": "5e554909",
   "metadata": {},
   "outputs": [
    {
     "ename": "error",
     "evalue": "OpenCV(4.9.0) D:\\a\\opencv-python\\opencv-python\\opencv\\modules\\highgui\\src\\window.cpp:971: error: (-215:Assertion failed) size.width>0 && size.height>0 in function 'cv::imshow'\n",
     "output_type": "error",
     "traceback": [
      "\u001b[1;31m---------------------------------------------------------------------------\u001b[0m",
      "\u001b[1;31merror\u001b[0m                                     Traceback (most recent call last)",
      "Cell \u001b[1;32mIn[9], line 1\u001b[0m\n\u001b[1;32m----> 1\u001b[0m cv2\u001b[38;5;241m.\u001b[39mimshow(\u001b[38;5;124m\"\u001b[39m\u001b[38;5;124mim1\u001b[39m\u001b[38;5;124m\"\u001b[39m,im1)\n\u001b[0;32m      2\u001b[0m cv2\u001b[38;5;241m.\u001b[39mimshow(\u001b[38;5;124m\"\u001b[39m\u001b[38;5;124mim2\u001b[39m\u001b[38;5;124m\"\u001b[39m,im2)\n\u001b[0;32m      3\u001b[0m cv2\u001b[38;5;241m.\u001b[39mwaitKey(\u001b[38;5;241m0\u001b[39m)\n",
      "\u001b[1;31merror\u001b[0m: OpenCV(4.9.0) D:\\a\\opencv-python\\opencv-python\\opencv\\modules\\highgui\\src\\window.cpp:971: error: (-215:Assertion failed) size.width>0 && size.height>0 in function 'cv::imshow'\n"
     ]
    }
   ],
   "source": [
    "cv2.imshow(\"im1\",im1)\n",
    "cv2.imshow(\"im2\",im2)\n",
    "cv2.waitKey(0)\n",
    "cv2.destroyAllWindows()"
   ]
  },
  {
   "cell_type": "code",
   "execution_count": null,
   "id": "985e8c48",
   "metadata": {},
   "outputs": [],
   "source": [
    "im_blend=cv2.addWeighted(im1,1,im2,0.3,0)"
   ]
  },
  {
   "cell_type": "code",
   "execution_count": null,
   "id": "4bae6ae3",
   "metadata": {},
   "outputs": [],
   "source": [
    "cv2.imshow(\"Blended\", im_blend)\n",
    "cv2.waitKey(0)\n",
    "cv2.destroyAllwindows()"
   ]
  },
  {
   "cell_type": "markdown",
   "id": "a4172a2c",
   "metadata": {},
   "source": [
    "# image sub"
   ]
  },
  {
   "cell_type": "code",
   "execution_count": null,
   "id": "2fb08baa",
   "metadata": {},
   "outputs": [],
   "source": [
    "#image_subtractiom\n",
    "imsub=cv2.subtract(im1,im2)"
   ]
  },
  {
   "cell_type": "code",
   "execution_count": null,
   "id": "2dc79efc",
   "metadata": {},
   "outputs": [],
   "source": [
    "cv2.imshow(\"sub\", imsub)\n",
    "cv2.waitKey(0)\n",
    "cv2.destroyAllwindows()"
   ]
  },
  {
   "cell_type": "markdown",
   "id": "11fae054",
   "metadata": {},
   "source": [
    "# and not or xor"
   ]
  },
  {
   "cell_type": "code",
   "execution_count": null,
   "id": "c1ce304e",
   "metadata": {},
   "outputs": [],
   "source": [
    "And=cv2.bitwise_and(im1,im2)\n",
    "Or=cv2.bitwise_or(im1,im2)\n",
    "NOT=cv2.bitwise_not(im1)\n",
    "XOR=cv2.bitwise_xor(im1,im2)"
   ]
  },
  {
   "cell_type": "code",
   "execution_count": null,
   "id": "7109ebf4",
   "metadata": {},
   "outputs": [],
   "source": [
    "cv2.imshow(\"b_and\",And)\n",
    "cv2.imshow(\"b_or\",Or)\n",
    "cv2.imshow(\"b_not\",NOT)\n",
    "cv2.imshow(\"b_xor\",XOR)\n",
    "cv2.waitKey(0)\n",
    "cv2.destroyAllwindows()\n"
   ]
  },
  {
   "cell_type": "markdown",
   "id": "285930be",
   "metadata": {},
   "source": []
  },
  {
   "cell_type": "code",
   "execution_count": 5,
   "id": "eca07e50",
   "metadata": {},
   "outputs": [],
   "source": [
    "# ROI - Region Of Intrest\n",
    "roi=im1[200:300]"
   ]
  },
  {
   "cell_type": "code",
   "execution_count": null,
   "id": "d1f7699e",
   "metadata": {},
   "outputs": [],
   "source": [
    "cv2.imshow(\"roi\", roi)\n",
    "cv2.waitKey(0)\n",
    "cv2.destroyAllwindows()"
   ]
  },
  {
   "cell_type": "code",
   "execution_count": null,
   "id": "a7d18fa0",
   "metadata": {},
   "outputs": [],
   "source": []
  },
  {
   "cell_type": "code",
   "execution_count": null,
   "id": "f624e578",
   "metadata": {},
   "outputs": [],
   "source": []
  }
 ],
 "metadata": {
  "kernelspec": {
   "display_name": "Python 3 (ipykernel)",
   "language": "python",
   "name": "python3"
  },
  "language_info": {
   "codemirror_mode": {
    "name": "ipython",
    "version": 3
   },
   "file_extension": ".py",
   "mimetype": "text/x-python",
   "name": "python",
   "nbconvert_exporter": "python",
   "pygments_lexer": "ipython3",
   "version": "3.11.5"
  }
 },
 "nbformat": 4,
 "nbformat_minor": 5
}
