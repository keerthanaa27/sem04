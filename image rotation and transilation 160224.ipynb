{
 "cells": [
  {
   "cell_type": "code",
   "execution_count": 1,
   "id": "082547cd",
   "metadata": {},
   "outputs": [],
   "source": [
    "import cv2\n",
    "import numpy as np"
   ]
  },
  {
   "cell_type": "code",
   "execution_count": 2,
   "id": "77760046",
   "metadata": {},
   "outputs": [],
   "source": [
    "im1=cv2.imread(\"C:/Users/SN115/Pictures/yk/panda.jpg\")"
   ]
  },
  {
   "cell_type": "code",
   "execution_count": 3,
   "id": "5455f8bf",
   "metadata": {},
   "outputs": [
    {
     "data": {
      "text/plain": [
       "array([[[  6,   0,   1],\n",
       "        [  3,   1,   1],\n",
       "        [  0,   1,   0],\n",
       "        ...,\n",
       "        [  0,   0,   0],\n",
       "        [  0,   0,   0],\n",
       "        [  0,   0,   0]],\n",
       "\n",
       "       [[  7,   0,   0],\n",
       "        [  6,   1,   2],\n",
       "        [  5,  10,   9],\n",
       "        ...,\n",
       "        [  6,   6,   6],\n",
       "        [  0,   0,   0],\n",
       "        [  0,   0,   0]],\n",
       "\n",
       "       [[  5,   0,   0],\n",
       "        [  2,   0,   0],\n",
       "        [  0,   1,   0],\n",
       "        ...,\n",
       "        [  0,   0,   0],\n",
       "        [  0,   0,   0],\n",
       "        [  0,   0,   0]],\n",
       "\n",
       "       ...,\n",
       "\n",
       "       [[203, 231, 231],\n",
       "        [203, 231, 231],\n",
       "        [203, 231, 231],\n",
       "        ...,\n",
       "        [  0,  60,  49],\n",
       "        [  0,  62,  51],\n",
       "        [  0,  62,  51]],\n",
       "\n",
       "       [[250, 255, 255],\n",
       "        [250, 255, 255],\n",
       "        [250, 255, 255],\n",
       "        ...,\n",
       "        [ 33,  80,  72],\n",
       "        [ 29,  78,  70],\n",
       "        [ 29,  78,  70]],\n",
       "\n",
       "       [[ 42,  47,  48],\n",
       "        [ 42,  47,  48],\n",
       "        [ 42,  47,  48],\n",
       "        ...,\n",
       "        [  3,  20,  16],\n",
       "        [  0,  20,  15],\n",
       "        [  0,  20,  15]]], dtype=uint8)"
      ]
     },
     "execution_count": 3,
     "metadata": {},
     "output_type": "execute_result"
    }
   ],
   "source": [
    "im1"
   ]
  },
  {
   "cell_type": "code",
   "execution_count": 4,
   "id": "d6049b3c",
   "metadata": {},
   "outputs": [
    {
     "name": "stdout",
     "output_type": "stream",
     "text": [
      "478\n",
      "850\n"
     ]
    }
   ],
   "source": [
    "height,width=im1.shape[:2]\n",
    "print(height)\n",
    "print(width)"
   ]
  },
  {
   "cell_type": "code",
   "execution_count": 5,
   "id": "80f78403",
   "metadata": {},
   "outputs": [
    {
     "data": {
      "text/plain": [
       "(239.0, 425.0)"
      ]
     },
     "execution_count": 5,
     "metadata": {},
     "output_type": "execute_result"
    }
   ],
   "source": [
    "cent=(height/2,width/2)\n",
    "cent"
   ]
  },
  {
   "cell_type": "code",
   "execution_count": 6,
   "id": "64d65d5d",
   "metadata": {},
   "outputs": [],
   "source": [
    "rotation_matrix=cv2.getRotationMatrix2D(center=cent,angle=27,scale=0.2)"
   ]
  },
  {
   "cell_type": "code",
   "execution_count": 7,
   "id": "4bea2e3c",
   "metadata": {},
   "outputs": [
    {
     "name": "stdout",
     "output_type": "stream",
     "text": [
      "[[ 1.78201305e-01  9.07980999e-02  1.57820696e+02]\n",
      " [-9.07980999e-02  1.78201305e-01  3.70965191e+02]]\n"
     ]
    }
   ],
   "source": [
    "print(rotation_matrix)"
   ]
  },
  {
   "cell_type": "code",
   "execution_count": 8,
   "id": "ff6aff1e",
   "metadata": {},
   "outputs": [],
   "source": [
    "rotated_im1=cv2.warpAffine(src=im1, M=rotation_matrix,dsize=(width,height))"
   ]
  },
  {
   "cell_type": "code",
   "execution_count": null,
   "id": "e4060d66",
   "metadata": {},
   "outputs": [],
   "source": [
    "cv2.imshow('Original image',im1)\n",
    "cv2.waitKey(0)\n",
    "cv2.imshow('Rotated image',rotated_im1)\n",
    "cv2.waitKey(0)\n",
    "cv2.destroyAllWindows()"
   ]
  },
  {
   "cell_type": "markdown",
   "id": "a07ab2e5",
   "metadata": {},
   "source": [
    "# translation matrix"
   ]
  },
  {
   "cell_type": "code",
   "execution_count": 9,
   "id": "edd400e8",
   "metadata": {},
   "outputs": [],
   "source": [
    "tx,ty=width/2,height/2"
   ]
  },
  {
   "cell_type": "code",
   "execution_count": 10,
   "id": "ba60ed95",
   "metadata": {},
   "outputs": [],
   "source": [
    "Translation_matrix=np.array([[1,0,tx],[0,1,ty]])"
   ]
  },
  {
   "cell_type": "code",
   "execution_count": 11,
   "id": "07918e1e",
   "metadata": {},
   "outputs": [
    {
     "data": {
      "text/plain": [
       "array([[  1.,   0., 425.],\n",
       "       [  0.,   1., 239.]])"
      ]
     },
     "execution_count": 11,
     "metadata": {},
     "output_type": "execute_result"
    }
   ],
   "source": [
    "Translation_matrix"
   ]
  },
  {
   "cell_type": "code",
   "execution_count": 12,
   "id": "2c880327",
   "metadata": {},
   "outputs": [],
   "source": [
    "Trans_im1=cv2.warpAffine(src=im1, M=rotation_matrix,dsize=(width,height))"
   ]
  },
  {
   "cell_type": "code",
   "execution_count": null,
   "id": "ccc33448",
   "metadata": {},
   "outputs": [],
   "source": [
    "cv2.imshow('Original image',im1)\n",
    "cv2.waitKey(0)\n",
    "cv2.imshow('Rotated image',Trans_im1)\n",
    "cv2.waitKey(0)\n",
    "cv2.destroyAllWindows()"
   ]
  },
  {
   "cell_type": "code",
   "execution_count": null,
   "id": "58f8a603",
   "metadata": {},
   "outputs": [],
   "source": []
  }
 ],
 "metadata": {
  "kernelspec": {
   "display_name": "Python 3 (ipykernel)",
   "language": "python",
   "name": "python3"
  },
  "language_info": {
   "codemirror_mode": {
    "name": "ipython",
    "version": 3
   },
   "file_extension": ".py",
   "mimetype": "text/x-python",
   "name": "python",
   "nbconvert_exporter": "python",
   "pygments_lexer": "ipython3",
   "version": "3.11.5"
  }
 },
 "nbformat": 4,
 "nbformat_minor": 5
}
