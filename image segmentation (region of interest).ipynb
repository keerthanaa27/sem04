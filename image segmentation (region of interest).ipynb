{
 "cells": [
  {
   "cell_type": "code",
   "execution_count": 14,
   "id": "b84b7167",
   "metadata": {},
   "outputs": [],
   "source": [
    "import cv2 as cv\n",
    "import numpy as np"
   ]
  },
  {
   "cell_type": "markdown",
   "id": "f1896619",
   "metadata": {},
   "source": [
    "# region of interest"
   ]
  },
  {
   "cell_type": "code",
   "execution_count": null,
   "id": "9b88f3c0",
   "metadata": {},
   "outputs": [],
   "source": [
    "image=cv2.imread(\"C:/Users/SN115/Pictures/yk/jkjk.jpg\")\n",
    "r = cv.selectROI(\"select the area\",image)\n",
    "cropped_image = image [int(r[1]):int(r[1]+r[3]),\n",
    "                       int(r[0]):int(r[0]+r[2])]\n",
    "                                                   \n",
    "cv.imshow(\"Cropped image\",cropped_image)\n",
    "cv.waitKey(0)\n"
   ]
  },
  {
   "cell_type": "code",
   "execution_count": null,
   "id": "e765d45b",
   "metadata": {},
   "outputs": [],
   "source": []
  }
 ],
 "metadata": {
  "kernelspec": {
   "display_name": "Python 3 (ipykernel)",
   "language": "python",
   "name": "python3"
  },
  "language_info": {
   "codemirror_mode": {
    "name": "ipython",
    "version": 3
   },
   "file_extension": ".py",
   "mimetype": "text/x-python",
   "name": "python",
   "nbconvert_exporter": "python",
   "pygments_lexer": "ipython3",
   "version": "3.11.5"
  }
 },
 "nbformat": 4,
 "nbformat_minor": 5
}
