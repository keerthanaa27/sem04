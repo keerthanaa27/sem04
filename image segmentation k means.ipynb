{
 "cells": [
  {
   "cell_type": "markdown",
   "id": "b3c3bc20",
   "metadata": {},
   "source": [
    "# K-Means clustering"
   ]
  },
  {
   "cell_type": "code",
   "execution_count": 31,
   "id": "115243f7",
   "metadata": {},
   "outputs": [],
   "source": [
    "import cv2 \n",
    "import numpy as np"
   ]
  },
  {
   "cell_type": "code",
   "execution_count": 2,
   "id": "78e39523",
   "metadata": {},
   "outputs": [
    {
     "data": {
      "text/plain": [
       "array([[[175, 192, 205],\n",
       "        [174, 192, 204],\n",
       "        [172, 193, 203],\n",
       "        ...,\n",
       "        [187, 140,  77],\n",
       "        [187, 140,  77],\n",
       "        [218, 193, 159]],\n",
       "\n",
       "       [[175, 192, 205],\n",
       "        [174, 192, 205],\n",
       "        [173, 193, 204],\n",
       "        ...,\n",
       "        [187, 141,  78],\n",
       "        [187, 141,  78],\n",
       "        [218, 194, 159]],\n",
       "\n",
       "       [[177, 193, 206],\n",
       "        [175, 193, 206],\n",
       "        [173, 194, 204],\n",
       "        ...,\n",
       "        [189, 143,  80],\n",
       "        [189, 143,  79],\n",
       "        [219, 194, 160]],\n",
       "\n",
       "       ...,\n",
       "\n",
       "       [[  7,   9,  10],\n",
       "        [  7,   9,  10],\n",
       "        [  7,   9,  10],\n",
       "        ...,\n",
       "        [ 23,  18,  15],\n",
       "        [ 23,  18,  15],\n",
       "        [129, 127, 125]],\n",
       "\n",
       "       [[  8,  10,  11],\n",
       "        [  8,  10,  11],\n",
       "        [  8,  10,  11],\n",
       "        ...,\n",
       "        [ 23,  18,  15],\n",
       "        [ 23,  18,  15],\n",
       "        [129, 127, 125]],\n",
       "\n",
       "       [[  9,  11,  12],\n",
       "        [  8,  10,  11],\n",
       "        [  8,  10,  11],\n",
       "        ...,\n",
       "        [ 23,  18,  15],\n",
       "        [ 23,  18,  15],\n",
       "        [129, 127, 125]]], dtype=uint8)"
      ]
     },
     "execution_count": 2,
     "metadata": {},
     "output_type": "execute_result"
    }
   ],
   "source": [
    "img = cv2.imread(\"C:/Users/SN115/Pictures/yk/jkjk.png\")\n",
    "img"
   ]
  },
  {
   "cell_type": "markdown",
   "id": "5b0551df",
   "metadata": {},
   "source": [
    "# rgb conversion "
   ]
  },
  {
   "cell_type": "code",
   "execution_count": 3,
   "id": "c230be42",
   "metadata": {},
   "outputs": [],
   "source": [
    "imgrgb = cv2.cvtColor(img,cv2.COLOR_BGR2RGB)"
   ]
  },
  {
   "cell_type": "markdown",
   "id": "d4e63ff3",
   "metadata": {},
   "source": [
    "# reshape"
   ]
  },
  {
   "cell_type": "code",
   "execution_count": 4,
   "id": "3133ab8a",
   "metadata": {},
   "outputs": [
    {
     "data": {
      "text/plain": [
       "array([[205, 192, 175],\n",
       "       [204, 192, 174],\n",
       "       [203, 193, 172],\n",
       "       ...,\n",
       "       [ 15,  18,  23],\n",
       "       [ 15,  18,  23],\n",
       "       [125, 127, 129]], dtype=uint8)"
      ]
     },
     "execution_count": 4,
     "metadata": {},
     "output_type": "execute_result"
    }
   ],
   "source": [
    "vec = imgrgb.reshape((-1,3))\n",
    "vec"
   ]
  },
  {
   "cell_type": "markdown",
   "id": "2451743d",
   "metadata": {},
   "source": [
    "# float conversion"
   ]
  },
  {
   "cell_type": "code",
   "execution_count": 5,
   "id": "6e16ec6c",
   "metadata": {},
   "outputs": [
    {
     "data": {
      "text/plain": [
       "array([[205., 192., 175.],\n",
       "       [204., 192., 174.],\n",
       "       [203., 193., 172.],\n",
       "       ...,\n",
       "       [ 15.,  18.,  23.],\n",
       "       [ 15.,  18.,  23.],\n",
       "       [125., 127., 129.]], dtype=float32)"
      ]
     },
     "execution_count": 5,
     "metadata": {},
     "output_type": "execute_result"
    }
   ],
   "source": [
    "vec =  np.float32(vec)\n",
    "vec"
   ]
  },
  {
   "cell_type": "markdown",
   "id": "3386a781",
   "metadata": {},
   "source": [
    "# iteration termination criteria"
   ]
  },
  {
   "cell_type": "code",
   "execution_count": 11,
   "id": "9ad1ff11",
   "metadata": {},
   "outputs": [],
   "source": [
    " Criteria = (cv2.TERM_CRITERIA_EPS+cv2.TERM_CRITERIA_MAX_ITER, 100, 1)"
   ]
  },
  {
   "cell_type": "markdown",
   "id": "8e9457bd",
   "metadata": {},
   "source": [
    "# cluster condition"
   ]
  },
  {
   "cell_type": "code",
   "execution_count": 12,
   "id": "29a75f3b",
   "metadata": {},
   "outputs": [],
   "source": [
    "K = 3\n",
    "attempts=100"
   ]
  },
  {
   "cell_type": "markdown",
   "id": "70745e13",
   "metadata": {},
   "source": [
    "# k-means clustering"
   ]
  },
  {
   "cell_type": "code",
   "execution_count": 29,
   "id": "3e52937b",
   "metadata": {},
   "outputs": [
    {
     "data": {
      "text/plain": [
       "array([[ 15.989895,  20.528234,  22.902605],\n",
       "       [193.84001 , 179.57582 , 163.83241 ],\n",
       "       [ 58.245613,  95.50093 , 108.00922 ]], dtype=float32)"
      ]
     },
     "execution_count": 29,
     "metadata": {},
     "output_type": "execute_result"
    }
   ],
   "source": [
    "compactness,label,center =cv2.kmeans(vec,K,None,Criteria,attempts,cv2.KMEANS_PP_CENTERS)\n",
    "center"
   ]
  },
  {
   "cell_type": "code",
   "execution_count": 34,
   "id": "670bd74c",
   "metadata": {},
   "outputs": [
    {
     "data": {
      "text/plain": [
       "array([[ 15,  20,  22],\n",
       "       [193, 179, 163],\n",
       "       [ 58,  95, 108]], dtype=uint8)"
      ]
     },
     "execution_count": 34,
     "metadata": {},
     "output_type": "execute_result"
    }
   ],
   "source": [
    "center=np.uint8(center)\n",
    "center"
   ]
  },
  {
   "cell_type": "markdown",
   "id": "0682e4bc",
   "metadata": {},
   "source": [
    "# flattening and reshape"
   ]
  },
  {
   "cell_type": "code",
   "execution_count": 35,
   "id": "87128be0",
   "metadata": {},
   "outputs": [
    {
     "data": {
      "text/plain": [
       "array([[[193, 179, 163],\n",
       "        [193, 179, 163],\n",
       "        [193, 179, 163],\n",
       "        ...,\n",
       "        [ 58,  95, 108],\n",
       "        [ 58,  95, 108],\n",
       "        [193, 179, 163]],\n",
       "\n",
       "       [[193, 179, 163],\n",
       "        [193, 179, 163],\n",
       "        [193, 179, 163],\n",
       "        ...,\n",
       "        [ 58,  95, 108],\n",
       "        [ 58,  95, 108],\n",
       "        [193, 179, 163]],\n",
       "\n",
       "       [[193, 179, 163],\n",
       "        [193, 179, 163],\n",
       "        [193, 179, 163],\n",
       "        ...,\n",
       "        [ 58,  95, 108],\n",
       "        [ 58,  95, 108],\n",
       "        [193, 179, 163]],\n",
       "\n",
       "       ...,\n",
       "\n",
       "       [[ 15,  20,  22],\n",
       "        [ 15,  20,  22],\n",
       "        [ 15,  20,  22],\n",
       "        ...,\n",
       "        [ 15,  20,  22],\n",
       "        [ 15,  20,  22],\n",
       "        [ 58,  95, 108]],\n",
       "\n",
       "       [[ 15,  20,  22],\n",
       "        [ 15,  20,  22],\n",
       "        [ 15,  20,  22],\n",
       "        ...,\n",
       "        [ 15,  20,  22],\n",
       "        [ 15,  20,  22],\n",
       "        [ 58,  95, 108]],\n",
       "\n",
       "       [[ 15,  20,  22],\n",
       "        [ 15,  20,  22],\n",
       "        [ 15,  20,  22],\n",
       "        ...,\n",
       "        [ 15,  20,  22],\n",
       "        [ 15,  20,  22],\n",
       "        [ 58,  95, 108]]], dtype=uint8)"
      ]
     },
     "execution_count": 35,
     "metadata": {},
     "output_type": "execute_result"
    }
   ],
   "source": [
    "res = center[label.flatten()]\n",
    "res_img = res.reshape((imgrgb.shape))\n",
    "res_img"
   ]
  },
  {
   "cell_type": "markdown",
   "id": "0a37603d",
   "metadata": {},
   "source": [
    "# image"
   ]
  },
  {
   "cell_type": "code",
   "execution_count": 36,
   "id": "dc4485b2",
   "metadata": {},
   "outputs": [],
   "source": [
    "cv2.imshow('Original' ,img)\n",
    "cv2.imshow('segmented' ,res_img)\n",
    "cv2.waitKey(0)\n",
    "cv2.destroyAllWindows()"
   ]
  },
  {
   "cell_type": "code",
   "execution_count": null,
   "id": "72c22ed1",
   "metadata": {},
   "outputs": [],
   "source": []
  }
 ],
 "metadata": {
  "kernelspec": {
   "display_name": "Python 3 (ipykernel)",
   "language": "python",
   "name": "python3"
  },
  "language_info": {
   "codemirror_mode": {
    "name": "ipython",
    "version": 3
   },
   "file_extension": ".py",
   "mimetype": "text/x-python",
   "name": "python",
   "nbconvert_exporter": "python",
   "pygments_lexer": "ipython3",
   "version": "3.11.5"
  }
 },
 "nbformat": 4,
 "nbformat_minor": 5
}
