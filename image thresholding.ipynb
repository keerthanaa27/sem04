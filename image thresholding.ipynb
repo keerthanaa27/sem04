{
 "cells": [
  {
   "cell_type": "markdown",
   "id": "3eeb7fd5",
   "metadata": {},
   "source": [
    "# image threasholding"
   ]
  },
  {
   "cell_type": "code",
   "execution_count": 1,
   "id": "139e7237",
   "metadata": {},
   "outputs": [],
   "source": [
    "import cv2\n",
    "import numpy"
   ]
  },
  {
   "cell_type": "code",
   "execution_count": 2,
   "id": "84ebc04c",
   "metadata": {},
   "outputs": [],
   "source": [
    "im1=cv2.imread(\"C:/Users/SN115/Pictures/yk/jkjk.jpg\")"
   ]
  },
  {
   "cell_type": "code",
   "execution_count": 3,
   "id": "9b36b23f",
   "metadata": {},
   "outputs": [],
   "source": [
    "cv2.imshow(\"im1\",im1)\n",
    "cv2.waitKey(0)\n",
    "cv2.destroyAllWindows()\n"
   ]
  },
  {
   "cell_type": "code",
   "execution_count": 4,
   "id": "64b02b03",
   "metadata": {},
   "outputs": [
    {
     "data": {
      "text/plain": [
       "array([[[59, 59, 59],\n",
       "        [60, 60, 60],\n",
       "        [61, 61, 61],\n",
       "        ...,\n",
       "        [58, 58, 58],\n",
       "        [59, 59, 59],\n",
       "        [59, 59, 59]],\n",
       "\n",
       "       [[57, 57, 57],\n",
       "        [59, 59, 59],\n",
       "        [60, 60, 60],\n",
       "        ...,\n",
       "        [58, 58, 58],\n",
       "        [59, 59, 59],\n",
       "        [59, 59, 59]],\n",
       "\n",
       "       [[57, 57, 57],\n",
       "        [58, 58, 58],\n",
       "        [60, 60, 60],\n",
       "        ...,\n",
       "        [58, 58, 58],\n",
       "        [59, 59, 59],\n",
       "        [59, 59, 59]],\n",
       "\n",
       "       ...,\n",
       "\n",
       "       [[69, 63, 64],\n",
       "        [67, 61, 62],\n",
       "        [64, 58, 59],\n",
       "        ...,\n",
       "        [58, 58, 58],\n",
       "        [59, 59, 59],\n",
       "        [60, 60, 60]],\n",
       "\n",
       "       [[75, 69, 70],\n",
       "        [72, 66, 67],\n",
       "        [67, 61, 62],\n",
       "        ...,\n",
       "        [57, 57, 57],\n",
       "        [58, 58, 58],\n",
       "        [59, 59, 59]],\n",
       "\n",
       "       [[78, 72, 73],\n",
       "        [75, 69, 70],\n",
       "        [69, 63, 64],\n",
       "        ...,\n",
       "        [56, 56, 56],\n",
       "        [57, 57, 57],\n",
       "        [58, 58, 58]]], dtype=uint8)"
      ]
     },
     "execution_count": 4,
     "metadata": {},
     "output_type": "execute_result"
    }
   ],
   "source": [
    "im1"
   ]
  },
  {
   "cell_type": "markdown",
   "id": "06123ebd",
   "metadata": {},
   "source": [
    "# syntax for thresholding"
   ]
  },
  {
   "cell_type": "markdown",
   "id": "971b4a1f",
   "metadata": {},
   "source": [
    "syntax:\n",
    "    ret,varname=cv2.threshold(inputimage,threshold limit,replace value,< threshold type>)"
   ]
  },
  {
   "cell_type": "code",
   "execution_count": 5,
   "id": "6a75494f",
   "metadata": {},
   "outputs": [],
   "source": [
    "ret,thres1=cv2.threshold(im1,56,78,cv2.THRESH_BINARY)\n",
    "ret,thres2=cv2.threshold(im1,56,78,cv2.THRESH_BINARY_INV)\n",
    "ret,thres3=cv2.threshold(im1,56,78,cv2.THRESH_TRUNC)\n",
    "ret,thres4=cv2.threshold(im1,56,78,cv2.THRESH_TOZERO)\n",
    "ret,thres5=cv2.threshold(im1,56,78,cv2.THRESH_TOZERO_INV)"
   ]
  },
  {
   "cell_type": "code",
   "execution_count": 6,
   "id": "c65031ed",
   "metadata": {},
   "outputs": [],
   "source": [
    "cv2.imshow(\"thres1\",thres1)\n",
    "cv2.waitKey(0)\n",
    "cv2.imshow(\"thres2\",thres2)\n",
    "cv2.waitKey(0)\n",
    "cv2.imshow(\"thres3\",thres3)\n",
    "cv2.waitKey(0)\n",
    "cv2.imshow(\"thres4\",thres4)\n",
    "cv2.waitKey(0)\n",
    "cv2.imshow(\"thres5\",thres5)\n",
    "cv2.waitKey(0)\n",
    "cv2.destroyAllWindows()s"
   ]
  },
  {
   "cell_type": "code",
   "execution_count": null,
   "id": "8b11b65f",
   "metadata": {},
   "outputs": [],
   "source": []
  }
 ],
 "metadata": {
  "kernelspec": {
   "display_name": "Python 3 (ipykernel)",
   "language": "python",
   "name": "python3"
  },
  "language_info": {
   "codemirror_mode": {
    "name": "ipython",
    "version": 3
   },
   "file_extension": ".py",
   "mimetype": "text/x-python",
   "name": "python",
   "nbconvert_exporter": "python",
   "pygments_lexer": "ipython3",
   "version": "3.11.5"
  }
 },
 "nbformat": 4,
 "nbformat_minor": 5
}
