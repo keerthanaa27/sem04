{
 "cells": [
  {
   "cell_type": "code",
   "execution_count": 3,
   "id": "d70121cc",
   "metadata": {},
   "outputs": [],
   "source": [
    "import cv2 \n",
    "import numpy as np"
   ]
  },
  {
   "cell_type": "code",
   "execution_count": 4,
   "id": "391e4c1a",
   "metadata": {},
   "outputs": [],
   "source": [
    "image = cv2.imread(\"C:/Users/SN115/Pictures/yk/jkjk.png\")"
   ]
  },
  {
   "cell_type": "markdown",
   "id": "88c9a656",
   "metadata": {},
   "source": [
    "# apply mean shift segmentation"
   ]
  },
  {
   "cell_type": "code",
   "execution_count": 5,
   "id": "257eeb6e",
   "metadata": {},
   "outputs": [],
   "source": [
    "segmented_image=cv2.pyrMeanShiftFiltering(image ,40 ,40)"
   ]
  },
  {
   "cell_type": "code",
   "execution_count": 6,
   "id": "a56bb0e9",
   "metadata": {},
   "outputs": [],
   "source": [
    "cv2.imshow('original_Image' ,image)\n",
    "cv2.imshow('segmented Image' ,segmented_image)\n",
    "cv2.waitKey(0)\n",
    "cv2.destroyAllWindows()"
   ]
  },
  {
   "cell_type": "code",
   "execution_count": null,
   "id": "b1c100cb",
   "metadata": {},
   "outputs": [],
   "source": []
  }
 ],
 "metadata": {
  "kernelspec": {
   "display_name": "Python 3 (ipykernel)",
   "language": "python",
   "name": "python3"
  },
  "language_info": {
   "codemirror_mode": {
    "name": "ipython",
    "version": 3
   },
   "file_extension": ".py",
   "mimetype": "text/x-python",
   "name": "python",
   "nbconvert_exporter": "python",
   "pygments_lexer": "ipython3",
   "version": "3.11.5"
  }
 },
 "nbformat": 4,
 "nbformat_minor": 5
}
