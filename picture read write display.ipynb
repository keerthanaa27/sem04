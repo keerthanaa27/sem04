{
 "cells": [
  {
   "cell_type": "code",
   "execution_count": 1,
   "id": "865adcea",
   "metadata": {},
   "outputs": [],
   "source": [
    "import numpy"
   ]
  },
  {
   "cell_type": "code",
   "execution_count": 19,
   "id": "05ebaffe",
   "metadata": {},
   "outputs": [],
   "source": [
    "import cv2"
   ]
  },
  {
   "cell_type": "code",
   "execution_count": 3,
   "id": "247be9cd",
   "metadata": {},
   "outputs": [],
   "source": [
    "import numpy as np"
   ]
  },
  {
   "cell_type": "code",
   "execution_count": 5,
   "id": "e325093c",
   "metadata": {},
   "outputs": [],
   "source": [
    "t=cv2.imread(\"C:/Users/SN115/Pictures/picture.jpg\")"
   ]
  },
  {
   "cell_type": "code",
   "execution_count": 6,
   "id": "179cd632",
   "metadata": {},
   "outputs": [
    {
     "data": {
      "text/plain": [
       "array([[[ 16,  11,  12],\n",
       "        [ 16,  11,  12],\n",
       "        [ 16,  11,  12],\n",
       "        ...,\n",
       "        [110,  40,  10],\n",
       "        [104,  39,   8],\n",
       "        [102,  38,   8]],\n",
       "\n",
       "       [[ 16,  11,  12],\n",
       "        [ 16,  11,  12],\n",
       "        [ 16,  11,  12],\n",
       "        ...,\n",
       "        [ 87,  31,  14],\n",
       "        [ 82,  30,  13],\n",
       "        [ 80,  29,  13]],\n",
       "\n",
       "       [[ 16,  11,  12],\n",
       "        [ 16,  11,  12],\n",
       "        [ 16,  11,  12],\n",
       "        ...,\n",
       "        [ 23,  23,   9],\n",
       "        [ 20,  23,   8],\n",
       "        [ 17,  21,   9]],\n",
       "\n",
       "       ...,\n",
       "\n",
       "       [[ 52,  35,  39],\n",
       "        [ 49,  34,  38],\n",
       "        [ 49,  37,  43],\n",
       "        ...,\n",
       "        [ 29,  20,  17],\n",
       "        [ 31,  22,  19],\n",
       "        [ 34,  25,  22]],\n",
       "\n",
       "       [[ 37,  32,  33],\n",
       "        [ 55,  39,  40],\n",
       "        [ 83,  48,  44],\n",
       "        ...,\n",
       "        [ 30,  21,  18],\n",
       "        [ 30,  21,  18],\n",
       "        [ 30,  21,  18]],\n",
       "\n",
       "       [[ 52,  40,  36],\n",
       "        [ 94,  72,  67],\n",
       "        [134,  91,  82],\n",
       "        ...,\n",
       "        [ 30,  21,  18],\n",
       "        [ 30,  21,  18],\n",
       "        [ 30,  21,  18]]], dtype=uint8)"
      ]
     },
     "execution_count": 6,
     "metadata": {},
     "output_type": "execute_result"
    }
   ],
   "source": [
    "t"
   ]
  },
  {
   "cell_type": "code",
   "execution_count": 7,
   "id": "787425fa",
   "metadata": {},
   "outputs": [],
   "source": [
    "cv2.imshow(\"show\",t)\n",
    "cv2.waitKey(5000)\n",
    "cv2.destroyAllWindows()"
   ]
  },
  {
   "cell_type": "code",
   "execution_count": 9,
   "id": "3e33b1b6",
   "metadata": {},
   "outputs": [
    {
     "data": {
      "text/plain": [
       "True"
      ]
     },
     "execution_count": 9,
     "metadata": {},
     "output_type": "execute_result"
    }
   ],
   "source": [
    "cv2.imwrite(\"C:/Users/SN115/Desktop/picture.jpg\",t)"
   ]
  },
  {
   "cell_type": "markdown",
   "id": "f4030433",
   "metadata": {},
   "source": [
    "# gray colour"
   ]
  },
  {
   "cell_type": "code",
   "execution_count": 15,
   "id": "71384d22",
   "metadata": {},
   "outputs": [],
   "source": [
    "p=cv2.imread(\"C:/Users/SN115/Pictures/picture.jpg\",0)"
   ]
  },
  {
   "cell_type": "code",
   "execution_count": 16,
   "id": "828f9a49",
   "metadata": {},
   "outputs": [
    {
     "data": {
      "text/plain": [
       "array([[12, 12, 12, ..., 39, 37, 36],\n",
       "       [12, 12, 12, ..., 32, 31, 30],\n",
       "       [12, 12, 12, ..., 19, 18, 17],\n",
       "       ...,\n",
       "       [38, 37, 40, ..., 20, 22, 25],\n",
       "       [33, 41, 51, ..., 21, 21, 21],\n",
       "       [40, 73, 93, ..., 21, 21, 21]], dtype=uint8)"
      ]
     },
     "execution_count": 16,
     "metadata": {},
     "output_type": "execute_result"
    }
   ],
   "source": [
    "p"
   ]
  },
  {
   "cell_type": "code",
   "execution_count": 17,
   "id": "9ccd1fcc",
   "metadata": {},
   "outputs": [],
   "source": [
    "cv2.imshow(\"show\",p)\n",
    "cv2.waitKey(5000)\n",
    "cv2.destroyAllWindows()"
   ]
  },
  {
   "cell_type": "code",
   "execution_count": 18,
   "id": "e9b1993a",
   "metadata": {},
   "outputs": [
    {
     "data": {
      "text/plain": [
       "True"
      ]
     },
     "execution_count": 18,
     "metadata": {},
     "output_type": "execute_result"
    }
   ],
   "source": [
    "cv2.imwrite(\"C:/Users/SN115/Desktop/picture.jpg\",p)"
   ]
  },
  {
   "cell_type": "code",
   "execution_count": null,
   "id": "d4a19895",
   "metadata": {},
   "outputs": [],
   "source": []
  }
 ],
 "metadata": {
  "kernelspec": {
   "display_name": "Python 3 (ipykernel)",
   "language": "python",
   "name": "python3"
  },
  "language_info": {
   "codemirror_mode": {
    "name": "ipython",
    "version": 3
   },
   "file_extension": ".py",
   "mimetype": "text/x-python",
   "name": "python",
   "nbconvert_exporter": "python",
   "pygments_lexer": "ipython3",
   "version": "3.11.5"
  }
 },
 "nbformat": 4,
 "nbformat_minor": 5
}
