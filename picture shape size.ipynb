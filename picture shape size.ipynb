{
 "cells": [
  {
   "cell_type": "code",
   "execution_count": 3,
   "id": "a34bdcbe",
   "metadata": {},
   "outputs": [],
   "source": [
    "import numpy"
   ]
  },
  {
   "cell_type": "code",
   "execution_count": 4,
   "id": "5dd3ed82",
   "metadata": {},
   "outputs": [],
   "source": [
    "import cv2"
   ]
  },
  {
   "cell_type": "code",
   "execution_count": 5,
   "id": "460706a4",
   "metadata": {},
   "outputs": [],
   "source": [
    "import numpy as np"
   ]
  },
  {
   "cell_type": "code",
   "execution_count": 6,
   "id": "11834f82",
   "metadata": {},
   "outputs": [],
   "source": [
    "t=cv2.imread(\"C:/Users/SN115/Pictures/picture.jpg\")"
   ]
  },
  {
   "cell_type": "code",
   "execution_count": 7,
   "id": "7f5fd92b",
   "metadata": {},
   "outputs": [
    {
     "data": {
      "text/plain": [
       "array([[[ 16,  11,  12],\n",
       "        [ 16,  11,  12],\n",
       "        [ 16,  11,  12],\n",
       "        ...,\n",
       "        [110,  40,  10],\n",
       "        [104,  39,   8],\n",
       "        [102,  38,   8]],\n",
       "\n",
       "       [[ 16,  11,  12],\n",
       "        [ 16,  11,  12],\n",
       "        [ 16,  11,  12],\n",
       "        ...,\n",
       "        [ 87,  31,  14],\n",
       "        [ 82,  30,  13],\n",
       "        [ 80,  29,  13]],\n",
       "\n",
       "       [[ 16,  11,  12],\n",
       "        [ 16,  11,  12],\n",
       "        [ 16,  11,  12],\n",
       "        ...,\n",
       "        [ 23,  23,   9],\n",
       "        [ 20,  23,   8],\n",
       "        [ 17,  21,   9]],\n",
       "\n",
       "       ...,\n",
       "\n",
       "       [[ 52,  35,  39],\n",
       "        [ 49,  34,  38],\n",
       "        [ 49,  37,  43],\n",
       "        ...,\n",
       "        [ 29,  20,  17],\n",
       "        [ 31,  22,  19],\n",
       "        [ 34,  25,  22]],\n",
       "\n",
       "       [[ 37,  32,  33],\n",
       "        [ 55,  39,  40],\n",
       "        [ 83,  48,  44],\n",
       "        ...,\n",
       "        [ 30,  21,  18],\n",
       "        [ 30,  21,  18],\n",
       "        [ 30,  21,  18]],\n",
       "\n",
       "       [[ 52,  40,  36],\n",
       "        [ 94,  72,  67],\n",
       "        [134,  91,  82],\n",
       "        ...,\n",
       "        [ 30,  21,  18],\n",
       "        [ 30,  21,  18],\n",
       "        [ 30,  21,  18]]], dtype=uint8)"
      ]
     },
     "execution_count": 7,
     "metadata": {},
     "output_type": "execute_result"
    }
   ],
   "source": [
    "t"
   ]
  },
  {
   "cell_type": "markdown",
   "id": "e775811c",
   "metadata": {},
   "source": [
    "# shape of an image"
   ]
  },
  {
   "cell_type": "code",
   "execution_count": 8,
   "id": "78cba5ae",
   "metadata": {},
   "outputs": [],
   "source": [
    "shp = t.shape"
   ]
  },
  {
   "cell_type": "code",
   "execution_count": 9,
   "id": "4622693a",
   "metadata": {},
   "outputs": [
    {
     "name": "stdout",
     "output_type": "stream",
     "text": [
      "(410, 728, 3)\n"
     ]
    }
   ],
   "source": [
    "print(shp)"
   ]
  },
  {
   "cell_type": "markdown",
   "id": "4f31e9da",
   "metadata": {},
   "source": [
    "# size of an image"
   ]
  },
  {
   "cell_type": "code",
   "execution_count": 10,
   "id": "e2a31e48",
   "metadata": {},
   "outputs": [],
   "source": [
    "sz = t.size"
   ]
  },
  {
   "cell_type": "code",
   "execution_count": 11,
   "id": "781c7617",
   "metadata": {},
   "outputs": [
    {
     "name": "stdout",
     "output_type": "stream",
     "text": [
      "895440\n"
     ]
    }
   ],
   "source": [
    "print(sz)"
   ]
  },
  {
   "cell_type": "markdown",
   "id": "bcf10c7b",
   "metadata": {},
   "source": [
    "# value of an pixel"
   ]
  },
  {
   "cell_type": "code",
   "execution_count": null,
   "id": "f85f99e0",
   "metadata": {},
   "outputs": [],
   "source": [
    "px = "
   ]
  }
 ],
 "metadata": {
  "kernelspec": {
   "display_name": "Python 3 (ipykernel)",
   "language": "python",
   "name": "python3"
  },
  "language_info": {
   "codemirror_mode": {
    "name": "ipython",
    "version": 3
   },
   "file_extension": ".py",
   "mimetype": "text/x-python",
   "name": "python",
   "nbconvert_exporter": "python",
   "pygments_lexer": "ipython3",
   "version": "3.11.5"
  }
 },
 "nbformat": 4,
 "nbformat_minor": 5
}
