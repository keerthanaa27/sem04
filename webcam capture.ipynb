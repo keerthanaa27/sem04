{
 "cells": [
  {
   "cell_type": "markdown",
   "id": "7fc0429d",
   "metadata": {},
   "source": [
    "# import library"
   ]
  },
  {
   "cell_type": "code",
   "execution_count": 2,
   "id": "062f6aa2",
   "metadata": {},
   "outputs": [],
   "source": [
    "import cv2 "
   ]
  },
  {
   "cell_type": "markdown",
   "id": "7ce2798c",
   "metadata": {},
   "source": [
    "# webcam capture"
   ]
  },
  {
   "cell_type": "code",
   "execution_count": 3,
   "id": "b7364457",
   "metadata": {},
   "outputs": [],
   "source": [
    "vid = cv2.VideoCapture(\"C:/Users/SN115/Pictures/yk/doggg.mp4\")"
   ]
  },
  {
   "cell_type": "markdown",
   "id": "d92182fd",
   "metadata": {},
   "source": [
    "# webcam display"
   ]
  },
  {
   "cell_type": "code",
   "execution_count": 4,
   "id": "8303c75f",
   "metadata": {},
   "outputs": [
    {
     "ename": "NameError",
     "evalue": "name 'view' is not defined",
     "output_type": "error",
     "traceback": [
      "\u001b[1;31m---------------------------------------------------------------------------\u001b[0m",
      "\u001b[1;31mNameError\u001b[0m                                 Traceback (most recent call last)",
      "Cell \u001b[1;32mIn[4], line 1\u001b[0m\n\u001b[1;32m----> 1\u001b[0m \u001b[38;5;28;01mwhile\u001b[39;00m(view\u001b[38;5;241m.\u001b[39misOpened()):\n\u001b[0;32m      2\u001b[0m     ret, frame \u001b[38;5;241m=\u001b[39m view\u001b[38;5;241m.\u001b[39mread()\n\u001b[0;32m      3\u001b[0m     gray \u001b[38;5;241m=\u001b[39m cv2\u001b[38;5;241m.\u001b[39mcvtColor(frame ,cv2\u001b[38;5;241m.\u001b[39mCOLOR_BGR2GRAY)\n",
      "\u001b[1;31mNameError\u001b[0m: name 'view' is not defined"
     ]
    }
   ],
   "source": [
    "while(view.isOpened()):\n",
    "    ret, frame = view.read()\n",
    "    gray = cv2.cvtColor(frame ,cv2.COLOR_BGR2GRAY)\n",
    "    cv2.imshow('frame', frame)\n",
    "    cv2.imshow('gray', gray)\n",
    "    if cv2.waitKey(1) & 0xFF == ord('q'):\n",
    "        break\n",
    "    \n",
    "    \n",
    "    \n",
    "view.release()\n",
    "cv2.destroyAllWindows()"
   ]
  },
  {
   "cell_type": "markdown",
   "id": "238ec7f5",
   "metadata": {},
   "source": [
    "# video saving"
   ]
  },
  {
   "cell_type": "markdown",
   "id": "efeeed77",
   "metadata": {},
   "source": [
    "# webcam capture"
   ]
  },
  {
   "cell_type": "code",
   "execution_count": 5,
   "id": "1dceb294",
   "metadata": {},
   "outputs": [],
   "source": [
    "fourcc = cv2.VideoWriter_fourcc(*'mp4v')"
   ]
  },
  {
   "cell_type": "markdown",
   "id": "29d8dcdf",
   "metadata": {},
   "source": [
    "# video writer"
   ]
  },
  {
   "cell_type": "code",
   "execution_count": 6,
   "id": "51915943",
   "metadata": {},
   "outputs": [],
   "source": [
    "wrt=cv2.VideoWriter('videoname.mp4', fourcc, 50.0  ,(640, 480))"
   ]
  },
  {
   "cell_type": "code",
   "execution_count": 7,
   "id": "ba50b818",
   "metadata": {},
   "outputs": [
    {
     "ename": "NameError",
     "evalue": "name 'view' is not defined",
     "output_type": "error",
     "traceback": [
      "\u001b[1;31m---------------------------------------------------------------------------\u001b[0m",
      "\u001b[1;31mNameError\u001b[0m                                 Traceback (most recent call last)",
      "Cell \u001b[1;32mIn[7], line 12\u001b[0m\n\u001b[0;32m      7\u001b[0m     \u001b[38;5;28;01mif\u001b[39;00m cv2\u001b[38;5;241m.\u001b[39mwaitKey(\u001b[38;5;241m1\u001b[39m) \u001b[38;5;241m&\u001b[39m \u001b[38;5;241m0xFF\u001b[39m \u001b[38;5;241m==\u001b[39m \u001b[38;5;28mord\u001b[39m(\u001b[38;5;124m'\u001b[39m\u001b[38;5;124mq\u001b[39m\u001b[38;5;124m'\u001b[39m):\n\u001b[0;32m      8\u001b[0m         \u001b[38;5;28;01mbreak\u001b[39;00m\n\u001b[1;32m---> 12\u001b[0m view\u001b[38;5;241m.\u001b[39mrelease()\n\u001b[0;32m     13\u001b[0m cv2\u001b[38;5;241m.\u001b[39mdestroyAllWindows()\n",
      "\u001b[1;31mNameError\u001b[0m: name 'view' is not defined"
     ]
    }
   ],
   "source": [
    "while(True):\n",
    "    ret, frame = view.read()\n",
    "    \n",
    "    wrt.write(frame)\n",
    "   \n",
    "    cv2.imshow('frame', frame)\n",
    "    if cv2.waitKey(1) & 0xFF == ord('q'):\n",
    "        break\n",
    "    \n",
    "    \n",
    "    \n",
    "view.release()\n",
    "cv2.destroyAllWindows()"
   ]
  },
  {
   "cell_type": "code",
   "execution_count": null,
   "id": "24b3aa22",
   "metadata": {},
   "outputs": [],
   "source": []
  }
 ],
 "metadata": {
  "kernelspec": {
   "display_name": "Python 3 (ipykernel)",
   "language": "python",
   "name": "python3"
  },
  "language_info": {
   "codemirror_mode": {
    "name": "ipython",
    "version": 3
   },
   "file_extension": ".py",
   "mimetype": "text/x-python",
   "name": "python",
   "nbconvert_exporter": "python",
   "pygments_lexer": "ipython3",
   "version": "3.11.5"
  }
 },
 "nbformat": 4,
 "nbformat_minor": 5
}
